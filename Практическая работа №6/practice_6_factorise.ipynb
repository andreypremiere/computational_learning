{
 "cells": [
  {
   "cell_type": "code",
   "execution_count": 3,
   "metadata": {},
   "outputs": [],
   "source": [
    "import pandas as pd\n",
    "from sklearn.metrics.pairwise import cosine_similarity\n",
    "import numpy as np\n",
    "from sklearn.cluster import KMeans\n",
    "from sklearn.metrics import silhouette_score\n",
    "import matplotlib.pyplot as plt\n",
    "from sklearn.decomposition import NMF\n"
   ]
  },
  {
   "cell_type": "code",
   "execution_count": 2,
   "metadata": {},
   "outputs": [
    {
     "name": "stdout",
     "output_type": "stream",
     "text": [
      "movieId  1       2       3       4       5       6       7       8       \\\n",
      "userId                                                                    \n",
      "1           4.0     0.0     4.0     0.0     0.0     4.0     0.0     0.0   \n",
      "2           0.0     0.0     0.0     0.0     0.0     0.0     0.0     0.0   \n",
      "3           0.0     0.0     0.0     0.0     0.0     0.0     0.0     0.0   \n",
      "4           0.0     0.0     0.0     0.0     0.0     0.0     0.0     0.0   \n",
      "5           4.0     0.0     0.0     0.0     0.0     0.0     0.0     0.0   \n",
      "...         ...     ...     ...     ...     ...     ...     ...     ...   \n",
      "606         2.5     0.0     0.0     0.0     0.0     0.0     2.5     0.0   \n",
      "607         4.0     0.0     0.0     0.0     0.0     0.0     0.0     0.0   \n",
      "608         2.5     2.0     2.0     0.0     0.0     0.0     0.0     0.0   \n",
      "609         3.0     0.0     0.0     0.0     0.0     0.0     0.0     0.0   \n",
      "610         5.0     0.0     0.0     0.0     0.0     5.0     0.0     0.0   \n",
      "\n",
      "movieId  9       10      ...  193565  193567  193571  193573  193579  193581  \\\n",
      "userId                   ...                                                   \n",
      "1           0.0     0.0  ...     0.0     0.0     0.0     0.0     0.0     0.0   \n",
      "2           0.0     0.0  ...     0.0     0.0     0.0     0.0     0.0     0.0   \n",
      "3           0.0     0.0  ...     0.0     0.0     0.0     0.0     0.0     0.0   \n",
      "4           0.0     0.0  ...     0.0     0.0     0.0     0.0     0.0     0.0   \n",
      "5           0.0     0.0  ...     0.0     0.0     0.0     0.0     0.0     0.0   \n",
      "...         ...     ...  ...     ...     ...     ...     ...     ...     ...   \n",
      "606         0.0     0.0  ...     0.0     0.0     0.0     0.0     0.0     0.0   \n",
      "607         0.0     0.0  ...     0.0     0.0     0.0     0.0     0.0     0.0   \n",
      "608         0.0     4.0  ...     0.0     0.0     0.0     0.0     0.0     0.0   \n",
      "609         0.0     4.0  ...     0.0     0.0     0.0     0.0     0.0     0.0   \n",
      "610         0.0     0.0  ...     0.0     0.0     0.0     0.0     0.0     0.0   \n",
      "\n",
      "movieId  193583  193585  193587  193609  \n",
      "userId                                   \n",
      "1           0.0     0.0     0.0     0.0  \n",
      "2           0.0     0.0     0.0     0.0  \n",
      "3           0.0     0.0     0.0     0.0  \n",
      "4           0.0     0.0     0.0     0.0  \n",
      "5           0.0     0.0     0.0     0.0  \n",
      "...         ...     ...     ...     ...  \n",
      "606         0.0     0.0     0.0     0.0  \n",
      "607         0.0     0.0     0.0     0.0  \n",
      "608         0.0     0.0     0.0     0.0  \n",
      "609         0.0     0.0     0.0     0.0  \n",
      "610         0.0     0.0     0.0     0.0  \n",
      "\n",
      "[610 rows x 9742 columns]\n"
     ]
    }
   ],
   "source": [
    "ratings = pd.read_csv('ml-latest-small/ratings.csv')\n",
    "movies = pd.read_csv('ml-latest-small/movies.csv')\n",
    "\n",
    "all_movies = movies['movieId'].unique()\n",
    "\n",
    "user_movie_matrix = ratings.pivot_table(\n",
    "    index='userId',\n",
    "    columns='movieId',\n",
    "    values='rating',\n",
    "    fill_value=0\n",
    ")\n",
    "\n",
    "for movie_id in all_movies:\n",
    "    if movie_id not in user_movie_matrix.columns:\n",
    "        user_movie_matrix[movie_id] = 0\n",
    "\n",
    "user_movie_matrix = user_movie_matrix.reindex(columns=all_movies, fill_value=0)\n",
    "\n",
    "print(user_movie_matrix)"
   ]
  },
  {
   "cell_type": "code",
   "execution_count": 5,
   "metadata": {},
   "outputs": [
    {
     "name": "stderr",
     "output_type": "stream",
     "text": [
      "d:\\anaconda\\envs\\theory_calculating\\Lib\\site-packages\\sklearn\\decomposition\\_nmf.py:1759: ConvergenceWarning: Maximum number of iterations 500 reached. Increase it to improve convergence.\n",
      "  warnings.warn(\n"
     ]
    }
   ],
   "source": [
    "# NMF\n",
    "nmf = NMF(n_components=20, random_state=42, max_iter=500)\n",
    "nmf_matrix = nmf.fit_transform(user_movie_matrix)  \n",
    "nmf_components = nmf.components_ "
   ]
  },
  {
   "cell_type": "code",
   "execution_count": 6,
   "metadata": {},
   "outputs": [],
   "source": [
    "nmf_pred = np.dot(nmf_matrix, nmf_components)"
   ]
  },
  {
   "cell_type": "code",
   "execution_count": 7,
   "metadata": {},
   "outputs": [],
   "source": [
    "def recommend_movies_nmf(user_id, n_recommendations=10):\n",
    "    user_idx = user_movie_matrix.index.get_loc(user_id)\n",
    "    user_ratings = nmf_pred[user_idx]  \n",
    "\n",
    "    rated_movies = ratings[ratings['userId'] == user_id]['movieId'].tolist()\n",
    "    watched_movies = movies[movies['movieId'].isin(rated_movies)][['movieId', 'title']]\n",
    "\n",
    "    movie_idx = [i for i, movie in enumerate(user_movie_matrix.columns) if movie not in rated_movies]\n",
    "\n",
    "    recommended_movie_indices = np.argsort(user_ratings[movie_idx])[-n_recommendations:]\n",
    "    recommended_movie_ids = [user_movie_matrix.columns[i] for i in recommended_movie_indices]\n",
    "    recommendations = movies[movies['movieId'].isin(recommended_movie_ids)][['movieId', 'title']]\n",
    "\n",
    "    return watched_movies, recommendations"
   ]
  },
  {
   "cell_type": "code",
   "execution_count": 8,
   "metadata": {},
   "outputs": [
    {
     "name": "stdout",
     "output_type": "stream",
     "text": [
      "Фильмы, которые пользователь 1 уже посмотрел:\n",
      "      movieId                           title\n",
      "0           1                Toy Story (1995)\n",
      "2           3         Grumpier Old Men (1995)\n",
      "5           6                     Heat (1995)\n",
      "43         47     Seven (a.k.a. Se7en) (1995)\n",
      "46         50      Usual Suspects, The (1995)\n",
      "...       ...                             ...\n",
      "2802     3744                    Shaft (2000)\n",
      "2836     3793                    X-Men (2000)\n",
      "2847     3809          What About Bob? (1991)\n",
      "2991     4006  Transformers: The Movie (1986)\n",
      "3673     5060    M*A*S*H (a.k.a. MASH) (1970)\n",
      "\n",
      "[232 rows x 2 columns] \n",
      "\n",
      "Рекомендации для пользователя 1:\n",
      "      movieId                                  title\n",
      "475       542                      Son in Law (1993)\n",
      "615       780   Independence Day (a.k.a. ID4) (1996)\n",
      "736       956                  Penny Serenade (1941)\n",
      "831      1092                  Basic Instinct (1992)\n",
      "874      1163                 Mina Tannenbaum (1994)\n",
      "952      1253  Day the Earth Stood Still, The (1951)\n",
      "965      1266                      Unforgiven (1992)\n",
      "967      1268              Pump Up the Volume (1990)\n",
      "1328     1797                         Everest (1998)\n",
      "1896     2520                         Airport (1970)\n"
     ]
    }
   ],
   "source": [
    "user_id = 1  \n",
    "watched_movies, recommendations = recommend_movies_nmf(user_id)\n",
    "\n",
    "print(f\"Фильмы, которые пользователь {user_id} уже посмотрел:\")\n",
    "print(watched_movies, '\\n')\n",
    "\n",
    "print(f\"Рекомендации для пользователя {user_id}:\")\n",
    "print(recommendations)"
   ]
  },
  {
   "cell_type": "code",
   "execution_count": null,
   "metadata": {},
   "outputs": [],
   "source": [
    "# 2. Разделим данные на обучающую и тестовую выборки\n",
    "train_data, test_data = train_test_split(user_movie_matrix, test_size=0.2, random_state=42)\n",
    "\n",
    "# 3. Применяем NMF для матричной факторизации\n",
    "nmf = NMF(n_components=20, random_state=42)\n",
    "nmf_matrix = nmf.fit_transform(train_data)\n",
    "\n",
    "# 4. Прогнозируем значения на тестовой выборке\n",
    "nmf_pred = np.dot(nmf_matrix, nmf.components_)\n",
    "\n",
    "# 5. Оценим качество предсказания (например, с использованием MSE)\n",
    "mse = mean_squared_error(test_data.values, nmf_pred)\n",
    "print(f'Mean Squared Error (NMF): {mse}')\n",
    "\n",
    "# 6. Функция для получения рекомендаций\n",
    "def recommend_movies_nmf(user_id, n_recommendations=10):\n",
    "    user_idx = train_data.index.get_loc(user_id)\n",
    "    user_ratings = nmf_pred[user_idx]\n",
    "    \n",
    "    # Сортируем по убыванию значений предсказанных рейтингов и исключаем уже просмотренные фильмы\n",
    "    rated_movies = ratings[ratings['userId'] == user_id]['movieId'].tolist()\n",
    "    movie_idx = [i for i, movie in enumerate(user_movie_matrix.columns) if movie not in rated_movies]\n",
    "    \n",
    "    recommended_movie_indices = np.argsort(user_ratings[movie_idx])[-n_recommendations:]\n",
    "    recommended_movie_ids = [user_movie_matrix.columns[i] for i in recommended_movie_indices]\n",
    "    \n",
    "    return movies[movies['movieId'].isin(recommended_movie_ids)][['movieId', 'title']]\n",
    "\n",
    "# Пример рекомендации для пользователя\n",
    "user_id = 1\n",
    "recommendations = recommend_movies_nmf(user_id)\n",
    "print(f\"Рекомендации для пользователя {user_id}:\")\n",
    "print(recommendations)\n",
    "\n",
    "\n"
   ]
  }
 ],
 "metadata": {
  "kernelspec": {
   "display_name": "theory_calculating",
   "language": "python",
   "name": "python3"
  },
  "language_info": {
   "codemirror_mode": {
    "name": "ipython",
    "version": 3
   },
   "file_extension": ".py",
   "mimetype": "text/x-python",
   "name": "python",
   "nbconvert_exporter": "python",
   "pygments_lexer": "ipython3",
   "version": "3.12.3"
  }
 },
 "nbformat": 4,
 "nbformat_minor": 2
}
